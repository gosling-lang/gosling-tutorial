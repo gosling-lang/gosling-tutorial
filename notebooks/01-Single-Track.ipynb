{
 "cells": [
  {
   "cell_type": "markdown",
   "id": "81a90721",
   "metadata": {},
   "source": [
    "# Session 1: Single Track"
   ]
  },
  {
   "cell_type": "markdown",
   "id": "5cb4b669",
   "metadata": {
    "id": "5cb4b669"
   },
   "source": [
    "# What is **`gos`** 🦆?"
   ]
  },
  {
   "cell_type": "markdown",
   "id": "2flb0iA7KNN0",
   "metadata": {
    "id": "2flb0iA7KNN0"
   },
   "source": [
    "## Motivation\n",
    "\n",
    "So far in the tutorial we have provided a general overview of the Gosling  visualization grammar and introduced its key features:\n",
    "\n",
    "- _Expressiveness_\n",
    "- _Data scalability_\n",
    "- _Encoding scalability_\n",
    "- _Coordinated interactivity_\n",
    "\n",
    "Although Gosling is extremely flexible, its JSON represenation is less ergonomic to construct natively via popular programming languages (like Python) and deploying a Gosling-based visualization requires the administration of a web server. Together these challenges serve as a barrier to entry for some, and we were motivated to design a simplified API _for_ computational biologists to visualize their own datasets with Gosling. \n",
    "\n",
    "Enter **`gos`**..."
   ]
  },
  {
   "cell_type": "markdown",
   "id": "G2x-0d76KQkR",
   "metadata": {
    "id": "G2x-0d76KQkR"
   },
   "source": [
    "## Overview\n",
    "\n",
    "**`gos`** is a declarative **Python library** designed to create interactive multi-scale visualizations of genomics and epigenomics data. Its main features include:\n",
    "\n",
    "- Authoring declarative genomics visualizations which adhere to the [Gosling](http://gosling-lang.org/) JSON Specification\n",
    "\n",
    "- Displaying Gosling visualizations directly in computational notebooks (Jupyter, JupyterLab, Google Colab)\n",
    "\n",
    "- Transparently hosting genomics datasets for visualizations (hiding web server complexities)\n",
    "\n",
    "<br>\n",
    "\n",
    "<p align=\"center\">\n",
    "  <img width=\"600\" src=\"https://user-images.githubusercontent.com/24403730/176062140-596b3a74-168f-4b86-8047-85785ee06179.png\" />\n",
    "</p>"
   ]
  },
  {
   "cell_type": "markdown",
   "id": "rWZLSfAaKVtA",
   "metadata": {
    "id": "rWZLSfAaKVtA"
   },
   "source": [
    "## How it works\n",
    "\n",
    "The **`gos`** Python library exposes a simple API that maps directly to the formal Gosling JSON specification. Users write Python programs with **`gos`** which ultimately:\n",
    "\n",
    "- Emit JSON (the Gosling visualization)\n",
    "- Automatically render said JSON within computational notebooks \n",
    "\n",
    "<p align=\"center\">\n",
    "  <img width=\"600\" src=\"https://pbs.twimg.com/media/FCT0BntX0AEEcDH?format=jpg&name=4096x4096\" />\n",
    "</p>\n",
    "\n",
    "> **Note** You need not understand the low-level details of **`gos`**. The important thing to keep in mind is that **`gos`** (by design) is _gaurenteed_ to be consistent with the formal Gosling grammar, and therefore learning **`gos`** will teach Gosling and vis versa."
   ]
  },
  {
   "cell_type": "markdown",
   "id": "gHmn3AtCKaUG",
   "metadata": {
    "id": "gHmn3AtCKaUG"
   },
   "source": [
    "# Getting started\n",
    "\n",
    "The remainder of this notebook will focus on introducing the Gosling grammar through the declarative Python API.\n",
    "\n",
    "Start by importing `gosling`."
   ]
  },
  {
   "cell_type": "code",
   "execution_count": null,
   "id": "5df40d9a",
   "metadata": {
    "id": "5df40d9a"
   },
   "outputs": [],
   "source": [
    "!pip install gosling==0.0.8"
   ]
  },
  {
   "cell_type": "code",
   "execution_count": null,
   "id": "AhMduouSUqST",
   "metadata": {
    "id": "AhMduouSUqST"
   },
   "outputs": [],
   "source": [
    "import gosling as gos"
   ]
  },
  {
   "cell_type": "markdown",
   "id": "610da5bd",
   "metadata": {
    "id": "610da5bd"
   },
   "source": [
    "> **Note** it is a convention to import as `gos` and then access the API through this namespace. "
   ]
  },
  {
   "cell_type": "markdown",
   "id": "33e48339",
   "metadata": {
    "id": "33e48339"
   },
   "source": [
    "## Track fundamentals\n",
    "\n",
    "**`gos`** exposes two fundamental building-blocks for genomics visualizations:\n",
    "\n",
    "- `gos.Track`\n",
    "- `gos.View`\n",
    "\n",
    "A _Track_ is the core component of a genomics visualization that defines explict **transformations** and **mappings** of genomics data to **visual properties**. A _Track_ may be composed with other _Tracks_ or **grouped** into a _View_ that share the same linked genomic domain. \n",
    "\n",
    "The figure below depicts the heirarchical structure of a Gosling visualization, displaying **3** distict _Views_ (light orange/blue/green) which individually are composed of several _Tracks_.\n",
    "\n",
    "<img src=\"https://github.com/gosling-lang/gos-example/blob/main/notebooks/tracks-views.jpeg?raw=1\" width=\"600\">\n",
    "\n",
    "A _Track_ (dark orange/blue/green) is the base primative for building genomics visualizations and requires binding a data source. In `gos` we define an abstract genomic data source and bind it to a _Track_ directly through the Python API. "
   ]
  },
  {
   "cell_type": "markdown",
   "id": "af2S9xHaT0HU",
   "metadata": {
    "id": "af2S9xHaT0HU"
   },
   "source": [
    "We will start by loading a BED file containing UCSC hg38 cytoband information"
   ]
  },
  {
   "cell_type": "code",
   "execution_count": null,
   "id": "adVkgyz_LK7X",
   "metadata": {
    "id": "adVkgyz_LK7X"
   },
   "outputs": [],
   "source": [
    "data_url = \"https://raw.githubusercontent.com/sehilyi/gemini-datasets/master/data/UCSC.HG38.Human.CytoBandIdeogram.bed\""
   ]
  },
  {
   "cell_type": "code",
   "execution_count": null,
   "id": "Mj5-CeOaL9AD",
   "metadata": {
    "id": "Mj5-CeOaL9AD"
   },
   "outputs": [],
   "source": [
    "!curl -s {data_url} | head | column -t"
   ]
  },
  {
   "cell_type": "code",
   "execution_count": null,
   "id": "f662f717",
   "metadata": {
    "id": "f662f717"
   },
   "outputs": [],
   "source": [
    "# The dataset is a BED4+1 file which can be read in Gosling as the CSV datatype\n",
    "data = gos.csv(\n",
    "    url=data_url,\n",
    "    headerNames=['chrom', 'chromStart', 'chromEnd', 'name', 'stain'], # the +1 field is stain\n",
    "    chromosomeField=\"chrom\", # the column containing chrom names\n",
    "    genomicFields=[\"chromStart\", \"chromEnd\"], # fields with genomic coordinates\n",
    "    separator=\"\\t\",\n",
    ")\n",
    "\n",
    "# bind the data to a track\n",
    "gos.Track(data)"
   ]
  },
  {
   "cell_type": "markdown",
   "id": "11344a81",
   "metadata": {
    "id": "11344a81"
   },
   "source": [
    "The _Track_ above is now bound to the genomics data, but the Gosling grammar requires the root of every visualization as a _View_, which may contain one or more _Tracks_. \n",
    "\n",
    "In order to complete a Gosling specification for the track in isolation, we use the `gos.Track.view()` method to cast the track within a `gos.View`. In Jupyter or Google Colab, the visualization is automatically rendered in the cell below rather than printing a Python object like above."
   ]
  },
  {
   "cell_type": "code",
   "execution_count": null,
   "id": "0SwOngmGPbEw",
   "metadata": {
    "id": "0SwOngmGPbEw"
   },
   "outputs": [],
   "source": [
    "track = gos.Track(data) # create `gos.Track`\n",
    "view = track.view()     # cast to `gos.View`\n",
    "gos.Track(data).view()"
   ]
  },
  {
   "cell_type": "markdown",
   "id": "jX3z7cIqPk-K",
   "metadata": {
    "id": "jX3z7cIqPk-K"
   },
   "source": [
    "_Something_ appeared on the screen but our visualization looks empty. What's going on? We haven't declared how to map the dataset to any visual properties! \n",
    "\n",
    "\n",
    "Use the `gos.Track.mark_*()` and `gos.Track.encode()` methods to specify a **mark** and what **visual encodings** to apply."
   ]
  },
  {
   "cell_type": "code",
   "execution_count": null,
   "id": "4vh140RLMwLS",
   "metadata": {
    "id": "4vh140RLMwLS"
   },
   "outputs": [],
   "source": [
    "# explore available marks with `gos.Track(data).mark_*`\n",
    "gos.Track(data).mark_point().encode(\n",
    "    x=gos.X(\"chromStart\", type=\"genomic\"),\n",
    "    y=gos.Y(\"chromStart\", type=\"genomic\", axis=\"left\"),\n",
    ").view()"
   ]
  },
  {
   "cell_type": "code",
   "execution_count": null,
   "id": "IfuFqToJYG9d",
   "metadata": {
    "id": "IfuFqToJYG9d"
   },
   "outputs": [],
   "source": [
    "gos.Track(data).mark_point().encode(\n",
    "    x=gos.X(\"chromStart\", type=\"genomic\"),\n",
    "    y=gos.Y(\"chromStart\", type=\"genomic\", axis=\"left\"), # add y-encoding\n",
    ").view()"
   ]
  },
  {
   "cell_type": "markdown",
   "id": "WuwGE_HWZkHe",
   "metadata": {
    "id": "WuwGE_HWZkHe"
   },
   "source": [
    "You can read more about the specific visual channels which are supported by each mark type in the [Gosling documentation](http://gosling-lang.org/docs/visual-channel)."
   ]
  },
  {
   "cell_type": "markdown",
   "id": "C7vlOjk-X11y",
   "metadata": {
    "id": "C7vlOjk-X11y"
   },
   "source": [
    "## Data-types\n",
    "\n",
    "The specifics of an encoding depend on the type of the data. Gosling recognizes three datatypes:\n",
    "\n",
    "| Data Type | Shorthand Code | Description |\n",
    "| --------- | -------------- | ----------- | \n",
    "| quantitative | Q | a continuous real-valued quantity | \n",
    "| nominal | N | a discrete unordered category |\n",
    "| genomic | G | a genomic base-pair position |\n",
    "\n",
    "Data types can either be expressed in long-form like above, or a short-hand syntax can be used to remove boilerplate when exploring visual encodings."
   ]
  },
  {
   "cell_type": "code",
   "execution_count": null,
   "id": "l29MSA0ON3dJ",
   "metadata": {
    "id": "l29MSA0ON3dJ"
   },
   "outputs": [],
   "source": [
    "gos.Track(data).mark_point().encode(\n",
    "    x=gos.X(\"chromStart:G\"), # `gos.X(\"chromStart:G\")` also ok and useful to further refine encoding\n",
    "    y=gos.Y(\"strain:N\")\n",
    ").view()"
   ]
  },
  {
   "cell_type": "code",
   "execution_count": null,
   "id": "dkKYafTCc0h5",
   "metadata": {
    "id": "dkKYafTCc0h5"
   },
   "outputs": [],
   "source": [
    "gos.Track(data).mark_point().encode(\n",
    "    x=gos.X(\"chromStart:G\"),\n",
    "    y=gos.Y(\"chromStart:Q\", axis=\"left\"), # change y-encoding to quantitative\n",
    ").view()"
   ]
  },
  {
   "cell_type": "code",
   "execution_count": null,
   "id": "XEqCdKV7SYyU",
   "metadata": {
    "id": "XEqCdKV7SYyU"
   },
   "outputs": [],
   "source": [
    "gos.Track(data).mark_point().encode(\n",
    "    x=gos.X(\"chromStart:G\"),\n",
    "    y=gos.Y(\"stain:N\") # change y-encoding to nominal field\n",
    ").view()"
   ]
  },
  {
   "cell_type": "code",
   "execution_count": null,
   "id": "tJsUZqOJS9sc",
   "metadata": {
    "id": "tJsUZqOJS9sc"
   },
   "outputs": [],
   "source": [
    "gos.Track(data).mark_point().encode(\n",
    "    x=gos.X(\"chromStart:G\"),\n",
    "    y=gos.Y(\"stain:N\"),\n",
    "    color=gos.value(\"black\"), # no data-type, just a literal value!\n",
    ").view()"
   ]
  },
  {
   "cell_type": "markdown",
   "id": "-j60oJbudIgb",
   "metadata": {
    "id": "-j60oJbudIgb"
   },
   "source": [
    "## Multiple encodings\n",
    "\n",
    "We can use both `y` position and `color` to encoding the same field."
   ]
  },
  {
   "cell_type": "code",
   "execution_count": null,
   "id": "CfRGhpqrTNA6",
   "metadata": {
    "id": "CfRGhpqrTNA6"
   },
   "outputs": [],
   "source": [
    "gos.Track(data).mark_rect().encode(\n",
    "    x=gos.X(\"chromStart:G\"),\n",
    "    xe=gos.Xe(\"chromEnd:G\"),\n",
    "    y=gos.Y(\"stain:N\"),\n",
    ").view()"
   ]
  },
  {
   "cell_type": "code",
   "execution_count": null,
   "id": "MTaz6LT_TRu1",
   "metadata": {
    "id": "MTaz6LT_TRu1"
   },
   "outputs": [],
   "source": [
    "gos.Track(data).mark_point().encode(\n",
    "    x=gos.X(\"chromStart:G\"),\n",
    "    y=gos.Y(\"stain:N\"),\n",
    "    # custom colormapping\n",
    "    color=gos.Color(\n",
    "        \"stain:N\", \n",
    "        domain=[\"gneg\", \"gpos25\", \"gpos50\", \"gpos75\", \"gpos100\", \"gvar\"],\n",
    "        range=[\"white\", \"#D9D9D9\", \"#979797\", \"#636363\", \"black\", \"#A0A0F2\"],\n",
    "        legend=True,\n",
    "    ),\n",
    ").view()"
   ]
  },
  {
   "cell_type": "code",
   "execution_count": null,
   "id": "IYeIK80vhpdL",
   "metadata": {
    "id": "IYeIK80vhpdL"
   },
   "outputs": [],
   "source": [
    "# change mark and add text-encoding\n",
    "gos.Track(data).mark_text().encode(\n",
    "    x=gos.X(\"chromStart:G\"),\n",
    "    y=gos.Y(\"stain:N\"),\n",
    "    color=gos.Color(\n",
    "        \"stain:N\", \n",
    "        domain=[\"gneg\", \"gpos25\", \"gpos50\", \"gpos75\", \"gpos100\", \"gvar\"],\n",
    "        range=[\"white\", \"#D9D9D9\", \"#979797\", \"#636363\", \"black\", \"#A0A0F2\"],\n",
    "        legend=True,\n",
    "    ),\n",
    "    text=gos.Text(\"stain:N\") \n",
    ").view()"
   ]
  },
  {
   "cell_type": "markdown",
   "id": "adJZ5UcOebOh",
   "metadata": {
    "id": "adJZ5UcOebOh"
   },
   "source": [
    "## Example: Simplified ideogram\n",
    "\n",
    "We can create a simplified ideogram using the concepts from above by changing the `mark` for our track and specifying additional encodings."
   ]
  },
  {
   "cell_type": "code",
   "execution_count": null,
   "id": "24f9fc5f",
   "metadata": {
    "id": "24f9fc5f"
   },
   "outputs": [],
   "source": [
    "track = gos.Track(data).mark_rect().encode(\n",
    "    # defines start and end of rectangle mark\n",
    "    x=gos.X(\"chromStart:G\", axis=\"top\"),\n",
    "    xe=gos.Xe(\"chromEnd:G\"),\n",
    "    # defines how to map Giemsa-stain factor to colors\n",
    "    color=gos.Color(\n",
    "        \"stain:N\", \n",
    "        domain=[\"gneg\", \"gpos25\", \"gpos50\", \"gpos75\", \"gpos100\", \"gvar\"],\n",
    "        range=[\"white\", \"#D9D9D9\", \"#979797\", \"#636363\", \"black\", \"#A0A0F2\"]\n",
    "    ),\n",
    "    # customize the style of the visual marks. \n",
    "    size=gos.value(20),\n",
    "    stroke=gos.value(\"gray\"),\n",
    "    strokeWidth=gos.value(0.5)\n",
    ")\n",
    "\n",
    "track.view()"
   ]
  },
  {
   "cell_type": "markdown",
   "id": "f9e4ab3c",
   "metadata": {
    "id": "f9e4ab3c"
   },
   "source": [
    "Additional parameters for the resulting `gos.View` can be passed in as well for convenience. We can easily set a `title` and `xDomain` for our visualization, initializing the initial genomic region to display human chromsome 1. "
   ]
  },
  {
   "cell_type": "code",
   "execution_count": null,
   "id": "5ece39d5",
   "metadata": {
    "id": "5ece39d5"
   },
   "outputs": [],
   "source": [
    "track.view(\n",
    "    title=\"Gos is awesome!\",\n",
    "    xDomain=gos.GenomicDomain(chromosome=\"chr1\"),\n",
    ")"
   ]
  },
  {
   "cell_type": "code",
   "execution_count": null,
   "id": "5GuYLP5S4CA5",
   "metadata": {
    "id": "5GuYLP5S4CA5"
   },
   "outputs": [],
   "source": [
    "view = track.view()\n",
    "view.to_json()"
   ]
  },
  {
   "cell_type": "markdown",
   "id": "N4RMbj_WiIhL",
   "metadata": {
    "id": "N4RMbj_WiIhL"
   },
   "source": [
    "# Track reuse and composition\n",
    "\n",
    "This section demonstrates how to build more complex, layered tracks and write functions to reuse visualizations for other data sources.\n",
    "\n",
    "A common pattern in **`gos`** is the reuse of `gos.Track` instances to create new, modified `gos.Track` or `gos.View` objects. This feature allows users to be much more concise with the Python API compared to the Gosling JSON equivalent. \n",
    "\n",
    "> **Note** in the code example above, we reuse `track` to create a _new_ view (with `title` and `xDomain`) without redefining the visualization from scratch."
   ]
  },
  {
   "cell_type": "markdown",
   "id": "8zAc9rJfoYHy",
   "metadata": {
    "id": "8zAc9rJfoYHy"
   },
   "source": [
    "## The data\n",
    "\n",
    "In this section we will visualize several scATAC-seq \"pseudobulk\" tracks from [Corces et. al (_Nature Genetics, 2020_)](https://www.nature.com/articles/s41588-020-00721-x) multi-omic atlas of the human brain. Each scATAC-seq track is stored in a separate BigWig file and represents the normalized aggregate signal of all cells from a given cell-type in the human brain."
   ]
  },
  {
   "cell_type": "code",
   "execution_count": null,
   "id": "CM2_jirOuxxp",
   "metadata": {
    "id": "CM2_jirOuxxp"
   },
   "outputs": [],
   "source": [
    "urls = [\n",
    "    f\"https://s3.amazonaws.com/gosling-lang.org/data/{file}\"\n",
    "    for file in [\n",
    "        \"ExcitatoryNeurons-insertions_bin100_RIPnorm.bw\",\n",
    "        \"InhibitoryNeurons-insertions_bin100_RIPnorm.bw\",\n",
    "        \"Microglia-insertions_bin100_RIPnorm.bw\",\n",
    "        \"Astrocytes-insertions_bin100_RIPnorm.bw\",\n",
    "    ]\n",
    "]\n",
    "urls"
   ]
  },
  {
   "cell_type": "markdown",
   "id": "8gWeEWfywK1b",
   "metadata": {
    "id": "8gWeEWfywK1b"
   },
   "source": [
    "In the previous section we visualized a text-based data format which was already tabular (BED). For non-tabular data formats supported by Gosling (e.g., BAM, BigWig) we need to be explicit about how to translate these files to a tabular representation in Gosling for which we can build our visualization. "
   ]
  },
  {
   "cell_type": "code",
   "execution_count": null,
   "id": "aj1sQdUnx1kW",
   "metadata": {
    "id": "aj1sQdUnx1kW"
   },
   "outputs": [],
   "source": [
    "data = gos.bigwig(urls[0], column=\"position\", value=\"peak\")\n",
    "data"
   ]
  },
  {
   "cell_type": "code",
   "execution_count": null,
   "id": "UHkqv4bgx-Sm",
   "metadata": {
    "id": "UHkqv4bgx-Sm"
   },
   "outputs": [],
   "source": [
    "gos.Track(data).mark_bar().encode(\n",
    "    x=gos.X(\"position:G\"),\n",
    "    y=gos.Y(\"peak:Q\", axis=\"right\"),\n",
    ").view()"
   ]
  },
  {
   "cell_type": "markdown",
   "id": "h7JQ4bgRoaRs",
   "metadata": {
    "id": "h7JQ4bgRoaRs"
   },
   "source": [
    "## Overlay track\n",
    "\n",
    "With the quantitative data type for `peak`, we can experiment with different marks in our visualization. Rather than repeating the definition, we use a `base` track to derive other modified tracks."
   ]
  },
  {
   "cell_type": "code",
   "execution_count": null,
   "id": "ZjJCGHdezFB9",
   "metadata": {
    "id": "ZjJCGHdezFB9"
   },
   "outputs": [],
   "source": [
    "base = gos.Track(data).encode(\n",
    "    x=gos.X(\"position:G\")\n",
    ").properties(height=60)\n",
    "\n",
    "heatmap = base.mark_rect().encode(\n",
    "    color=gos.Color(\"peak:Q\"),\n",
    ")\n",
    "\n",
    "heatmap.view()"
   ]
  },
  {
   "cell_type": "code",
   "execution_count": null,
   "id": "Jw-yyjvqzp9u",
   "metadata": {
    "id": "Jw-yyjvqzp9u"
   },
   "outputs": [],
   "source": [
    "line = base.mark_line().encode(\n",
    "    y=gos.Y(\"peak:Q\"),\n",
    "    color=gos.value(\"gray\"),\n",
    ")\n",
    "line.view()"
   ]
  },
  {
   "cell_type": "code",
   "execution_count": null,
   "id": "v8pq4XWf0Pf4",
   "metadata": {
    "id": "v8pq4XWf0Pf4"
   },
   "outputs": [],
   "source": [
    "points = line.mark_point()\n",
    "points.view()"
   ]
  },
  {
   "cell_type": "code",
   "execution_count": null,
   "id": "E_K0Dbxh0W_8",
   "metadata": {
    "id": "E_K0Dbxh0W_8"
   },
   "outputs": [],
   "source": [
    "colored_points = points.encode(\n",
    "    color=gos.Color(\"peak:Q\"), # overrides color encoding\n",
    "    size=gos.Size(\"peak:Q\"),\n",
    ")\n",
    "colored_points.view()"
   ]
  },
  {
   "cell_type": "markdown",
   "id": "e9dBfZhX08Ot",
   "metadata": {
    "id": "e9dBfZhX08Ot"
   },
   "source": [
    "Since the tracks above share some of the same encodings, we can layer the tracks together to create a composite `\"overlay\"` which combines different marks."
   ]
  },
  {
   "cell_type": "code",
   "execution_count": null,
   "id": "CdnDQifr1lnp",
   "metadata": {
    "id": "CdnDQifr1lnp"
   },
   "outputs": [],
   "source": [
    "gos.overlay(line, colored_points) # returns a View"
   ]
  },
  {
   "cell_type": "markdown",
   "id": "XPX7aTgh20OK",
   "metadata": {
    "id": "XPX7aTgh20OK"
   },
   "source": [
    "While this example is fairly contrived, the ability to create overlay tracks is an essential feature in Gosling and allows much more complex visual encodings (e.g. genome annotations)."
   ]
  },
  {
   "cell_type": "markdown",
   "id": "gw4fXsbd3XdF",
   "metadata": {
    "id": "gw4fXsbd3XdF"
   },
   "source": [
    "## Track function\n",
    "\n",
    "The previous section demonstrated further how track definitions may be reused and extended. In this section we will show how a Python function can be defined to reuse a track definition for other data sources.\n",
    "\n",
    "We can refactor this snippet from earlier so that we have a _function_ that generates a barplot for any scATAC-seq track above."
   ]
  },
  {
   "cell_type": "code",
   "execution_count": null,
   "id": "86TGAH_T42Fk",
   "metadata": {
    "id": "86TGAH_T42Fk"
   },
   "outputs": [],
   "source": [
    "def barplot(url: str, title: str = None, color: str = None) -> gos.Track:\n",
    "    data = gos.bigwig(url, column=\"position\", value=\"peak\")\n",
    "    track = gos.Track(data).mark_bar().encode(\n",
    "        x=gos.X(\"position:G\"),\n",
    "        y=gos.Y(\"peak:Q\", axis=\"right\"),\n",
    "    )\n",
    "    if color:\n",
    "        track = track.encode(color=gos.value(color))\n",
    "    if title:\n",
    "        track = track.properties(title=title)\n",
    "    return track.properties(height=40)\n",
    "\n",
    "barplot(urls[0]).view()"
   ]
  },
  {
   "cell_type": "code",
   "execution_count": null,
   "id": "p7QmcdhI7ibQ",
   "metadata": {
    "id": "p7QmcdhI7ibQ"
   },
   "outputs": [],
   "source": [
    "urls"
   ]
  },
  {
   "cell_type": "markdown",
   "id": "PaSHaQrC6qOv",
   "metadata": {
    "id": "PaSHaQrC6qOv"
   },
   "source": [
    "We can then reuse this utility to create multiple tracks to combine together."
   ]
  },
  {
   "cell_type": "code",
   "execution_count": null,
   "id": "fhchBxJY7FZm",
   "metadata": {
    "id": "fhchBxJY7FZm"
   },
   "outputs": [],
   "source": [
    "tracks = []\n",
    "for url, color in zip(urls, [\"#F29B67\", \"#3DC491\", \"#565C8B\",  \"#77C0FA\"]):\n",
    "    title = url.split(\"/\")[-1].split(\"-\")[0]\n",
    "    track = barplot(url=url, title=title, color=color)\n",
    "    tracks.append(track)\n",
    "tracks"
   ]
  },
  {
   "cell_type": "code",
   "execution_count": null,
   "id": "9HI9xvst8a2x",
   "metadata": {
    "id": "9HI9xvst8a2x"
   },
   "outputs": [],
   "source": [
    "tracks[1].view()"
   ]
  },
  {
   "cell_type": "markdown",
   "id": "kh1CT0Ll8dZC",
   "metadata": {
    "id": "kh1CT0Ll8dZC"
   },
   "source": [
    "Combined together into a single visualization with `gos.stack`."
   ]
  },
  {
   "cell_type": "code",
   "execution_count": null,
   "id": "Nc2MwTuy85TD",
   "metadata": {
    "id": "Nc2MwTuy85TD"
   },
   "outputs": [],
   "source": [
    "# returns a `View` which shared genomic domain for all child tracks\n",
    "gos.stack(*tracks).properties(\n",
    "    xDomain=gos.GenomicDomain(chromosome=\"3\", interval=[52168000, 52890000]),\n",
    ")"
   ]
  },
  {
   "cell_type": "code",
   "execution_count": null,
   "id": "OkkzvREgLtwV",
   "metadata": {
    "id": "OkkzvREgLtwV"
   },
   "outputs": [],
   "source": [
    "gos.stack(*tracks).properties(layout=\"circular\")"
   ]
  }
 ],
 "metadata": {
  "colab": {
   "collapsed_sections": [
    "5cb4b669",
    "gHmn3AtCKaUG",
    "N4RMbj_WiIhL"
   ],
   "name": "Session 1: Single Track",
   "provenance": [],
   "toc_visible": true
  },
  "kernelspec": {
   "display_name": "Python 3 (ipykernel)",
   "language": "python",
   "name": "python3"
  },
  "language_info": {
   "codemirror_mode": {
    "name": "ipython",
    "version": 3
   },
   "file_extension": ".py",
   "mimetype": "text/x-python",
   "name": "python",
   "nbconvert_exporter": "python",
   "pygments_lexer": "ipython3",
   "version": "3.9.12"
  }
 },
 "nbformat": 4,
 "nbformat_minor": 5
}
