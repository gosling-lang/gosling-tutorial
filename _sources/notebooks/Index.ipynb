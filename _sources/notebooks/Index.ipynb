{
 "cells": [
  {
   "cell_type": "markdown",
   "metadata": {},
   "source": [
    "# Outline\n",
    "\n",
    "These notebooks contain an introduction to exploratory genomics visualization with [Gosling](https://github.com/gosling-lang/gosling.js), presented at ISMB 2022.\n",
    "\n",
    "Our tutorial will start with several introductory slides about genomics data visualization and the Gosling grammar, followed by four hands-on practical sessions using the [Gos](https://github.com/gosling-lang/gos) Python library.\n",
    "\n",
    "## 1. Single Track\n",
    "\n",
    "Author custom tracks based on grammar of graphics.\n",
    "\n",
    "- [01-Single-Track.ipynb](01-Single-Track.ipynb)\n",
    "\n",
    "\n",
    "## 2. Track Alignment & Data Loading\n",
    "\n",
    "Compose tracks either by stacking and overlaying (e.g., genes). Load remote, local, and in-memory datasets with Gos.\n",
    "\n",
    "- [02-Track-Alignment-and-Data-Loading.ipynb](02-Track-Alignment-and-Data-Loading.ipynb)\n",
    "\n",
    "## 3. Semantic Zooming\n",
    "\n",
    "Use a unique primitive in Gosling to reveal patterns across scales\n",
    "\n",
    "- [03-Semantic-Zooming.ipynb](03-Semantic-Zooming.ipynb)\n",
    "\n",
    "## 4. Coordinated Multiple Views\n",
    "\n",
    "Compose multiple views with coordinated interactions.\n",
    "\n",
    "- [04-Coordinated-Multiple-Views.ipynb](04-Coordinated-Multiple-Views.ipynb)\n",
    "   "
   ]
  },
  {
   "cell_type": "code",
   "execution_count": null,
   "metadata": {},
   "outputs": [],
   "source": []
  }
 ],
 "metadata": {
  "kernelspec": {
   "display_name": "Python 3 (ipykernel)",
   "language": "python",
   "name": "python3"
  },
  "language_info": {
   "codemirror_mode": {
    "name": "ipython",
    "version": 3
   },
   "file_extension": ".py",
   "mimetype": "text/x-python",
   "name": "python",
   "nbconvert_exporter": "python",
   "pygments_lexer": "ipython3",
   "version": "3.9.12"
  },
  "nteract": {
   "version": "0.23.1"
  }
 },
 "nbformat": 4,
 "nbformat_minor": 4
}
