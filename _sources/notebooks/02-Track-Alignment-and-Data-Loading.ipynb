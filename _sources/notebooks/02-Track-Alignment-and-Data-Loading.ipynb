{
 "cells": [
  {
   "cell_type": "markdown",
   "id": "LbeXRBB8SBBZ",
   "metadata": {
    "id": "LbeXRBB8SBBZ"
   },
   "source": [
    "# Session 2: Track Alignment and Data Loading\n",
    "\n",
    "Welcome to the second part of the hands-on tutorial! In this notebook, we:\n",
    "\n",
    "- Introduce additional building blocks from the Gosling visualization grammer (track composition primitives) \n",
    "\n",
    "- Showcase the transparent data-utilties from **`gos`** to help users visualize their own local (and in-memory) genomics datasets\n",
    "\n",
    "To get started, make sure you have `gosling` installed. "
   ]
  },
  {
   "cell_type": "code",
   "execution_count": null,
   "id": "68352e24",
   "metadata": {
    "id": "68352e24"
   },
   "outputs": [],
   "source": [
    "!pip install gosling[all]==0.0.9\n",
    "import gosling as gos"
   ]
  },
  {
   "cell_type": "markdown",
   "id": "DsMTq4DPTsO5",
   "metadata": {
    "id": "DsMTq4DPTsO5"
   },
   "source": [
    "\n",
    "> **Note**: be sure to include the `[all]` for this notebook when installing `gos` from PyPI via `pip`. The special data utilites in `gos` are opt-in by default, and running the install command as shown above ensures that you will have the correct dependencies. "
   ]
  },
  {
   "cell_type": "markdown",
   "id": "wl8XgY8GMPiP",
   "metadata": {
    "id": "wl8XgY8GMPiP"
   },
   "source": [
    "# Track Composition\n",
    "\n",
    "A `gos.Track` is a unit building block which can be represented as a bar chart, a line chart, ideogram, or other chart types as we've seen in the first session. For the concurrent analysis of multiple datasets, multiple _Tracks_ can be grouped into one or more _Views_ and navigated synchronously. Each `gos.View` defines the genomic location for every `gos.Track` it contains, and each `gos.Track` binds and maps data to be visualized.\n",
    "\n",
    "Changes following View-level properties modifies how _Tracks_ and _Views_ compose together:\n",
    "\n",
    "- `layout` - Whether to view genomic positions in Cartesian (`linear`) or in polar (`circular`) coordinate systems.\n",
    "\n",
    "- `alignment` - Whether multiple tracks should `overlay` or `stack` within a _single_ View.\n",
    "\n",
    "- `arrangement` - How to juxtapose _multiple_ Views together (`parallel`, `serial`, `vertical`, `horizontal`).\n",
    "\n",
    "This section will walk through each of these properties in more detail with examples."
   ]
  },
  {
   "cell_type": "markdown",
   "id": "6hsI-YkNP4cu",
   "metadata": {
    "id": "6hsI-YkNP4cu"
   },
   "source": [
    "## `layout` - Linear and Circular\n",
    "\n",
    "The _View_ `layout` property specifies whether genomic coordinates are represented in either a `circular` or `linear` layout.\n",
    "\n",
    "The following figure displays the upper _Track_ with a `linear` layout and the bottom with a `circular` layout.\n",
    "\n",
    "<p align=\"center\">\n",
    "  <img width=\"600\" src=\"https://github.com/gosling-lang/gosling-website/raw/main/static/img/doc_images/linear_circular.png\" />\n",
    "</p>\n",
    "\n",
    "Here we create a bar chart visualization displaying a \"pseudobulk\" excitatory neuron scATAC-seq track from [Corces et. al (_Nature Genetics, 2020_)](https://www.nature.com/articles/s41588-020-00721-x), and apply a `linear` and `circular` layout."
   ]
  },
  {
   "cell_type": "code",
   "execution_count": null,
   "id": "DJEuFo4QVKdb",
   "metadata": {
    "id": "DJEuFo4QVKdb"
   },
   "outputs": [],
   "source": [
    "data = gos.bigwig(\n",
    "    url=\"https://s3.amazonaws.com/gosling-lang.org/data/ExcitatoryNeurons-insertions_bin100_RIPnorm.bw\",\n",
    "    column=\"position\", \n",
    "    value=\"peak\",\n",
    ")\n",
    "\n",
    "track = gos.Track(data, height=50).mark_bar().encode(\n",
    "    x=gos.X(\"position:G\"),\n",
    "    y=gos.Y(\"peak:Q\", axis=\"right\"),\n",
    ")\n",
    "\n",
    "track.view()"
   ]
  },
  {
   "cell_type": "markdown",
   "id": "uSUWRGCtVvFZ",
   "metadata": {
    "id": "uSUWRGCtVvFZ"
   },
   "source": [
    "### Linear view"
   ]
  },
  {
   "cell_type": "code",
   "execution_count": null,
   "id": "ULlykPpQVxev",
   "metadata": {
    "id": "ULlykPpQVxev"
   },
   "outputs": [],
   "source": [
    "track.view(layout=\"linear\")"
   ]
  },
  {
   "cell_type": "markdown",
   "id": "yY5Uvla0WOdB",
   "metadata": {
    "id": "yY5Uvla0WOdB"
   },
   "source": [
    "### Circular view"
   ]
  },
  {
   "cell_type": "code",
   "execution_count": null,
   "id": "K9RsR9enWMPn",
   "metadata": {
    "id": "K9RsR9enWMPn"
   },
   "outputs": [],
   "source": [
    "track.properties(width=200).view(layout=\"circular\")"
   ]
  },
  {
   "cell_type": "markdown",
   "id": "CyyIgU_dPTus",
   "metadata": {
    "id": "CyyIgU_dPTus"
   },
   "source": [
    "## `alignment` -  Multiple Tracks in One View​\n",
    "\n",
    "The _View_ `alignment` property allows users to either `\"overlay\"` or `\"stack\"` several tracks.\n",
    "\n",
    "<p align=\"center\">\n",
    "  <img width=\"600\" src=\"https://github.com/gosling-lang/gosling-website/raw/main/static/img/doc_images/alignment.png\" />\n",
    "</p>\n",
    "\n",
    "\n",
    "When setting `alignment` as `\"overlay\"`, multiple tracks are layered on top of others. When setting `alignment as \"stack\", multiple tracks are vertically concantenated. The default value of alignment is \"stack\"."
   ]
  },
  {
   "cell_type": "code",
   "execution_count": null,
   "id": "lG6cKiM-XVoR",
   "metadata": {
    "id": "lG6cKiM-XVoR"
   },
   "outputs": [],
   "source": [
    "line = track.mark_line().encode(color=gos.value(\"#f3b285\"))\n",
    "\n",
    "bar = track.encode(color=gos.value(\"#4472c4\"))\n",
    "\n",
    "print(line, bar)"
   ]
  },
  {
   "cell_type": "markdown",
   "id": "-WgVzGT3Y4ID",
   "metadata": {
    "id": "-WgVzGT3Y4ID"
   },
   "source": [
    "### Stacked tracks in single view"
   ]
  },
  {
   "cell_type": "code",
   "execution_count": null,
   "id": "4Q4vq2y-Y-L0",
   "metadata": {
    "id": "4Q4vq2y-Y-L0"
   },
   "outputs": [],
   "source": [
    "gos.stack(bar, line, line).properties(spacing=1)"
   ]
  },
  {
   "cell_type": "code",
   "execution_count": null,
   "id": "dHJNdQwrZWK7",
   "metadata": {
    "id": "dHJNdQwrZWK7"
   },
   "outputs": [],
   "source": [
    "gos.stack(\n",
    "    bar.properties(width=400),\n",
    "    line.properties(width=400),\n",
    ").properties(spacing=1, layout=\"circular\")"
   ]
  },
  {
   "cell_type": "markdown",
   "id": "QXIg_EHjZF2d",
   "metadata": {
    "id": "QXIg_EHjZF2d"
   },
   "source": [
    "### Overlay tracks in single view"
   ]
  },
  {
   "cell_type": "code",
   "execution_count": null,
   "id": "YlSfc2ruYxF8",
   "metadata": {
    "id": "YlSfc2ruYxF8"
   },
   "outputs": [],
   "source": [
    "gos.stack(bar, line)"
   ]
  },
  {
   "cell_type": "code",
   "execution_count": null,
   "id": "CKmBrm2NZypG",
   "metadata": {
    "id": "CKmBrm2NZypG"
   },
   "outputs": [],
   "source": [
    "gos.overlay(\n",
    "    bar.properties(width=400),\n",
    "    line.properties(width=400),\n",
    ").properties(spacing=1, layout=\"circular\")"
   ]
  },
  {
   "cell_type": "markdown",
   "id": "Va8C9oU3Z5wy",
   "metadata": {
    "id": "Va8C9oU3Z5wy"
   },
   "source": [
    "### Example: Gene Annotation\n",
    "\n",
    "The `overlay` alignment is an essential feature in Gosling and allows much more complex visual encodings. We leverage this building-block in the code example below to build a gene annotation track, combining several primitive tracks.\n",
    "\n",
    "> **Note** its not essential that you understand every detail of the code below. It is provided to demonstrate more complex usage of the `gos` API and can be used for reference later."
   ]
  },
  {
   "cell_type": "code",
   "execution_count": null,
   "id": "nDQDBnH5aLVZ",
   "metadata": {
    "id": "nDQDBnH5aLVZ"
   },
   "outputs": [],
   "source": [
    "import gosling as gos\n",
    "\n",
    "# HiGlass-based annotation dataset\n",
    "# http://gosling-lang.org/docs/data#beddb-require-higlass-server\n",
    "genes = gos.beddb(\n",
    "    url=\"https://server.gosling-lang.org/api/v1/tileset_info/?d=gene-annotation\",\n",
    "    genomicFields=[\n",
    "      {\"index\": 1, \"name\": \"start\"},\n",
    "      {\"index\": 2, \"name\": \"end\"}\n",
    "    ],\n",
    "    valueFields=[\n",
    "      {\"index\": 5, \"name\": \"strand\", \"type\": \"nominal\"},\n",
    "      {\"index\": 3, \"name\": \"name\", \"type\": \"nominal\"}\n",
    "    ],\n",
    "    exonIntervalFields=[\n",
    "      {\"index\": 12, \"name\": \"start\"},\n",
    "      {\"index\": 13, \"name\": \"end\"}\n",
    "    ]\n",
    ")\n",
    "\n",
    "# Primitive Tracks\n",
    "\n",
    "base = gos.Track(genes).encode(\n",
    "    row=gos.Row(\"strand:N\", domain=[\"+\", \"-\"]),\n",
    "    color=gos.Color(\"strand:N\", domain=[\"+\", \"-\"], range=[\"#7585FF\", \"#FF8A85\"]),\n",
    ").properties(\n",
    "    height=100,\n",
    "    title=\"Genes | hg38\",\n",
    ")\n",
    "\n",
    "plusGeneHead = base.mark_triangleRight(align=\"left\").encode(\n",
    "    x=gos.X(\"end:G\", axis=\"top\"),\n",
    "    size=gos.value(15)\n",
    ").transform_filter(\n",
    "    field=\"type\", oneOf=[\"gene\"]\n",
    ").transform_filter(\n",
    "    field=\"strand\", oneOf=[\"+\"]\n",
    ")\n",
    "\n",
    "minusGeneHead = base.mark_triangleLeft(align=\"right\").encode(\n",
    "    x=gos.X(\"start:G\", axis=\"top\"),\n",
    "    size=gos.value(15)\n",
    ").transform_filter(\n",
    "    field=\"type\", oneOf=[\"gene\"]\n",
    ").transform_filter(\n",
    "    field=\"strand\", oneOf=[\"-\"]\n",
    ")\n",
    "\n",
    "geneLabel = base.mark_text(dy=15).encode(\n",
    "    x=gos.X(\"start:G\", axis=\"top\"),\n",
    "    xe=\"end:G\",\n",
    "    text=\"name:N\",\n",
    "    size=gos.value(15)\n",
    ").transform_filter(\n",
    "    field=\"type\", oneOf=[\"gene\"]\n",
    ").visibility_lt(\n",
    "    measure=\"width\",\n",
    "    threshold=\"|xe-x|\",\n",
    "    transitionPadding=10,\n",
    "    target=\"mark\",\n",
    ")\n",
    "\n",
    "exon = base.mark_rect().encode(\n",
    "    x=gos.X(\"start:G\", axis=\"top\"),\n",
    "    xe=\"end:G\",\n",
    "    size=gos.value(15)\n",
    ").transform_filter(\n",
    "    field=\"type\", oneOf=[\"exon\"]\n",
    ")\n",
    "\n",
    "plusGeneRange = base.mark_rule(linePattern={\"type\": \"triangleRight\", \"size\": 5}).encode(\n",
    "    x=gos.X(\"start:G\", axis=\"top\"),\n",
    "    xe=\"end:G\",\n",
    "    strokeWidth=gos.value(3),\n",
    ").transform_filter(\n",
    "    field=\"type\", oneOf=[\"gene\"]\n",
    ").transform_filter(\n",
    "    field=\"strand\", oneOf=[\"+\"]\n",
    ")\n",
    "\n",
    "minusGeneRange = base.mark_rule(linePattern={\"type\": \"triangleLeft\", \"size\": 5}).encode(\n",
    "    x=gos.X(\"start:G\", axis=\"top\"),\n",
    "    xe=\"end:G\",\n",
    "    strokeWidth=gos.value(3),\n",
    ").transform_filter(\n",
    "    field=\"type\", oneOf=[\"gene\"]\n",
    ").transform_filter(\n",
    "    field=\"strand\", oneOf=[\"-\"]\n",
    ")\n",
    "\n",
    "# Combine tracks with overlay alignment\n",
    "\n",
    "gene_annotation = gos.overlay(\n",
    "    plusGeneRange, minusGeneRange, exon, plusGeneHead, minusGeneHead, geneLabel\n",
    ")\n",
    "\n",
    "gene_annotation.properties(\n",
    "    xDomain=gos.GenomicDomain(chromosome=\"1\", interval=[103400000, 103700000]),\n",
    ")"
   ]
  },
  {
   "cell_type": "markdown",
   "id": "15rj95tPcV3E",
   "metadata": {
    "id": "15rj95tPcV3E"
   },
   "source": [
    "We can then \"stack\" our custom `gene_annotation` view with the scATAC-seq track from earlier to provide context."
   ]
  },
  {
   "cell_type": "code",
   "execution_count": null,
   "id": "QyaFe8w1dFw5",
   "metadata": {
    "id": "QyaFe8w1dFw5"
   },
   "outputs": [],
   "source": [
    "gos.stack(\n",
    "    gene_annotation,\n",
    "    bar.properties(title=\"Excitatory Neuron ATAC-seq\"),\n",
    ").properties(\n",
    "    xDomain=gos.GenomicDomain(chromosome=\"1\", interval=[103400000, 103700000]),\n",
    ")"
   ]
  },
  {
   "cell_type": "markdown",
   "id": "QKLP_NqfXvlO",
   "metadata": {
    "id": "QKLP_NqfXvlO"
   },
   "source": [
    "## `arrangement` - Arrange Multiple Views​\n",
    "\n",
    "Gosling supports multi-view visualizations. Users specify the visualizations under the `views` property and modify the arragement of these fields through the `arrangement` property. \n",
    "\n",
    "`gos` provides several top-level utilities to conveniently group multiple views together in each of the arrangement options:\n",
    "\n",
    "- `gos.horizontal`\n",
    "- `gos.vertical`\n",
    "- `gos.serial`\n",
    "- `gos.parallel`\n",
    "\n",
    "<p align=\"center\">\n",
    " <img width=\"600\" src=\"https://github.com/gosling-lang/gosling-website/raw/main/static/img/doc_images/multi_views.png\" />\n",
    "</p>\n",
    "\n",
    "> **Note** the arrangement pairs (`gos.serial`, `gos.horizontal`) and (`gos.parallel`, `gos.vertical`) are **equivalent** when combining _Views_ with `linear` layouts. Behavior _only_ differs when arranging `circular` layout _Views_ (left-most column)."
   ]
  },
  {
   "cell_type": "markdown",
   "id": "fvGm4D7xfKmf",
   "metadata": {
    "id": "fvGm4D7xfKmf"
   },
   "source": [
    "### `gos.horizontal` & `gos.vertical`\n",
    "\n",
    "We can compose `gos.horizontal` and `gos.vertical` to arrange multiple tracks as into separate views. Notice how interactions are no longer synchronized since each _Track_ is within a unique _View_."
   ]
  },
  {
   "cell_type": "code",
   "execution_count": null,
   "id": "41lNVgqGY2-C",
   "metadata": {
    "id": "41lNVgqGY2-C"
   },
   "outputs": [],
   "source": [
    "gos.horizontal(\n",
    "    # left\n",
    "    gos.stack(\n",
    "        track.properties(width=300, height=100),\n",
    "        track.properties(width=300, height=100),\n",
    "    ),\n",
    "    # right\n",
    "    track.encode(color=gos.value(\"#4472c4\")).properties(width=600, height=240)\n",
    ")"
   ]
  },
  {
   "cell_type": "markdown",
   "id": "KaZwSUI4gtqm",
   "metadata": {
    "id": "KaZwSUI4gtqm"
   },
   "source": [
    "We can selectively \"group\" tracks within the **same** view using the `alignment` features in the previous section. We replace `gos.vertical` with `gos.stack`, which combines the tracks on the left into the same _View_.\""
   ]
  },
  {
   "cell_type": "code",
   "execution_count": null,
   "id": "nTiDDUKWgs3y",
   "metadata": {
    "id": "nTiDDUKWgs3y"
   },
   "outputs": [],
   "source": [
    "gos.horizontal(\n",
    "    # left\n",
    "    gos.stack(\n",
    "        gene_annotation.properties(width=300, height=100),\n",
    "        track.properties(width=300, height=100)\n",
    "    ),\n",
    "    # right\n",
    "    track.encode(color=gos.value(\"#4472c4\")).properties(width=600, height=240)\n",
    ")"
   ]
  },
  {
   "cell_type": "markdown",
   "id": "8h2DaPolhRBa",
   "metadata": {
    "id": "8h2DaPolhRBa"
   },
   "source": [
    "### `gos.serial` & `gos.parallel`\n",
    "\n",
    "The `serial` and `parallel` alignments differ in behavior from `horizontal` and `veritcal` when combining _Views_ with `circular` alignments."
   ]
  },
  {
   "cell_type": "code",
   "execution_count": null,
   "id": "V6_saWSmfJ2U",
   "metadata": {
    "id": "V6_saWSmfJ2U"
   },
   "outputs": [],
   "source": [
    "gos.serial(\n",
    "    track.properties(width=300).view(layout=\"circular\"), \n",
    "    gene_annotation.properties(width=300, layout=\"circular\"),\n",
    ")"
   ]
  },
  {
   "cell_type": "markdown",
   "id": "ebb17f53",
   "metadata": {
    "id": "ebb17f53"
   },
   "source": [
    "# Loading data\n",
    "\n",
    "This section illustrates a key (optional) feature of `gos` which makes hosting data for your Gosling visualizations a breeze. \n",
    "\n",
    "Normally a Gosling visualization requires the administration of a web-server to host both the client and genomics data sets for the visualization. In `gos`, we provide further integration with Python to hide this complexity and allow remote, local, and in-memory data to be visualized seamlessly through an idential API.\n",
    "\n",
    "In this notebook, we will visualize the same [BED file](https://samtools.github.io/hts-specs/BEDv1.pdf) containing h38 cytoband information as a: \n",
    "\n",
    "- remote dataset (via URL) \n",
    "- local dataset (via local path)\n",
    "- in memory (from a `pd.DataFrame`)"
   ]
  },
  {
   "cell_type": "markdown",
   "id": "QaLEKbMtUkGu",
   "metadata": {
    "id": "QaLEKbMtUkGu"
   },
   "source": [
    "## The visualization\n",
    "\n",
    "The `ideogram` function generates an ideogram visualization for a given Gosling data source. It is not important that you understand the details of this block to follow along in this notebook. Moreover, the important bit is to understand that `ideogram` takes `data` as input and returns a Gosling visualization created with the `gos` API.\n",
    "\n",
    "We will show how this function can be _reused_ for various `data` defintions (genomic data sources)."
   ]
  },
  {
   "cell_type": "code",
   "execution_count": null,
   "id": "90d1f40d",
   "metadata": {
    "id": "90d1f40d"
   },
   "outputs": [],
   "source": [
    "def ideogram(data) -> gos.View:\n",
    "    track = gos.Track(data) # bind data to track\n",
    "    \n",
    "    arms = track.mark_rect().encode(\n",
    "        color=gos.Color(\"stain:N\",\n",
    "            domain=[\"gneg\", \"gpos25\", \"gpos50\", \"gpos75\", \"gpos100\", \"gvar\"],\n",
    "            range=[\"white\", \"#D9D9D9\", \"#979797\", \"#636363\", \"black\", \"#A0A0F2\"],\n",
    "        ),\n",
    "        x=gos.X(\"chromStart:G\", axis=\"none\"),\n",
    "        xe=\"chromEnd:G\",\n",
    "        stroke=gos.value(\"black\"),\n",
    "        strokeWidth=gos.value(0.5),\n",
    "    ).transform_filter_not(\n",
    "        field=\"stain\",\n",
    "        oneOf=[\"acen\"],\n",
    "    )\n",
    "\n",
    "    labels = track.mark_text().encode(\n",
    "        text=\"name:N\",\n",
    "        color=gos.Color(\"stain:N\",\n",
    "            domain=[\"gneg\", \"gpos25\", \"gpos50\", \"gpos75\", \"gpos100\", \"gvar\"],\n",
    "            range=[\"black\", \"#636363\", \"black\", \"#D9D9D9\", \"white\", \"black\"],\n",
    "        ),\n",
    "        strokeWidth=gos.value(0)\n",
    "    ).visibility_lt(\n",
    "        target='mark',\n",
    "        measure='width',\n",
    "        threshold='|xe-x|',\n",
    "        transitionPadding=10\n",
    "    )\n",
    "\n",
    "    centromere = track.encode(\n",
    "        x=gos.X(\"chromStart:G\"),\n",
    "        xe=\"chromEnd:G\",\n",
    "        color=gos.value('red'),\n",
    "    ).transform_filter(\n",
    "        \"stain\", oneOf=[\"acen\"]\n",
    "    )\n",
    "\n",
    "    centromere_left = centromere.mark_triangleLeft().transform_filter(\n",
    "        \"name\", include=\"p\"\n",
    "    )\n",
    "\n",
    "    centromere_right = centromere.mark_triangleRight().transform_filter(\n",
    "        \"name\", include=\"q\"\n",
    "    )\n",
    "\n",
    "    return gos.overlay(arms, labels, centromere_left, centromere_right).properties(height=20)\n"
   ]
  },
  {
   "cell_type": "markdown",
   "id": "a516f77c",
   "metadata": {
    "id": "a516f77c"
   },
   "source": [
    "## The dataset\n",
    "\n",
    "The `url` below links to a [BED4+1](https://samtools.github.io/hts-specs/BEDv1.pdf) file containing UCSC hg38 cytoband information. This dataset is hosted on GitHub and is avaiable via URL. "
   ]
  },
  {
   "cell_type": "code",
   "execution_count": null,
   "id": "94529f08",
   "metadata": {
    "id": "94529f08"
   },
   "outputs": [],
   "source": [
    "url = \"https://raw.githubusercontent.com/sehilyi/gemini-datasets/master/data/UCSC.HG38.Human.CytoBandIdeogram.bed\""
   ]
  },
  {
   "cell_type": "code",
   "execution_count": null,
   "id": "BLiQLp_wi5Ac",
   "metadata": {
    "id": "BLiQLp_wi5Ac"
   },
   "outputs": [],
   "source": [
    "!curl -s {url}  | head | column -t\n",
    "# chrom  chromStart  chromEnd  name  stain"
   ]
  },
  {
   "cell_type": "markdown",
   "id": "a104e561",
   "metadata": {
    "id": "a104e561"
   },
   "source": [
    "## Remote dataset (via URL)\n",
    "\n",
    "We can reference this URL directly in Gos by creating a CSV data source via `gos.csv(...)`. This function returns a Python dictionary that describes our dataset to Gosling. We use the `gos.csv` utility since the resource is a columnar text dataset."
   ]
  },
  {
   "cell_type": "code",
   "execution_count": null,
   "id": "3477c7bd",
   "metadata": {
    "id": "3477c7bd"
   },
   "outputs": [],
   "source": [
    "# specify BED4+1 format\n",
    "data = gos.csv(\n",
    "    url=url,\n",
    "    headerNames=['chrom', 'chromStart', 'chromEnd', 'name', 'stain'], # the +1 field is stain\n",
    "    chromosomeField=\"chrom\", # the column containing chrom names\n",
    "    genomicFields=[\"chromStart\", \"chromEnd\"], # fields with genomic coordinates\n",
    "    separator=\"\\t\",\n",
    ")\n",
    "\n",
    "data"
   ]
  },
  {
   "cell_type": "markdown",
   "id": "e9301b85",
   "metadata": {
    "id": "e9301b85"
   },
   "source": [
    "We can now pass this dataset directly to the `ideogram` function which binds `data` to `gos.Track` and creates our custom visualization."
   ]
  },
  {
   "cell_type": "code",
   "execution_count": null,
   "id": "0e622cca",
   "metadata": {
    "id": "0e622cca"
   },
   "outputs": [],
   "source": [
    "ideogram(data)"
   ]
  },
  {
   "cell_type": "markdown",
   "id": "6f7d9ce1",
   "metadata": {
    "id": "6f7d9ce1"
   },
   "source": [
    "This visualization is a bit crowded since we are viewing the data genome-wide. We can set the initial genomic domain for the visualization to Chromosome 2 by specifying `xDomain` as a property."
   ]
  },
  {
   "cell_type": "code",
   "execution_count": null,
   "id": "c791dd43",
   "metadata": {
    "id": "c791dd43"
   },
   "outputs": [],
   "source": [
    "ideogram(data).properties(xDomain=gos.GenomicDomain(chromosome=\"chr2\"))"
   ]
  },
  {
   "cell_type": "markdown",
   "id": "c732ad57",
   "metadata": {
    "id": "c732ad57"
   },
   "source": [
    "## Local Dataset (via local filepath)\n",
    "\n",
    "Data are not always publically available via URL like above, and often we'd like to visualize local data files. To visualize local data, **simply change the URL to a local file path**.\n",
    "\n",
    "```diff\n",
    "data = gos.csv(\n",
    "-  url=url,\n",
    "+  url=\"./UCSC.HG38.Human.CytoBandIdeogram.bed\",\n",
    "   ... \n",
    ")\n",
    "```\n",
    "\n",
    "Below we download the file from GitHub and load the visualization from our local filesytem."
   ]
  },
  {
   "cell_type": "code",
   "execution_count": null,
   "id": "3ba3ef6a",
   "metadata": {
    "id": "3ba3ef6a"
   },
   "outputs": [],
   "source": [
    "!wget {url} # download file"
   ]
  },
  {
   "cell_type": "code",
   "execution_count": null,
   "id": "f5f56c5c",
   "metadata": {
    "id": "f5f56c5c"
   },
   "outputs": [],
   "source": [
    "!cat UCSC.HG38.Human.CytoBandIdeogram.bed | head | column -t # print local file contents"
   ]
  },
  {
   "cell_type": "code",
   "execution_count": null,
   "id": "OEG7pCIQFZmg",
   "metadata": {
    "id": "OEG7pCIQFZmg"
   },
   "outputs": [],
   "source": [
    "!ls"
   ]
  },
  {
   "cell_type": "code",
   "execution_count": null,
   "id": "384b0262",
   "metadata": {
    "id": "384b0262"
   },
   "outputs": [],
   "source": [
    "data = gos.csv(\n",
    "    url=\"./UCSC.HG38.Human.CytoBandIdeogram.bed\",\n",
    "    # url=url\n",
    "    headerNames=['chrom', 'chromStart', 'chromEnd', 'name', 'stain'],\n",
    "    chromosomeField=\"chrom\",\n",
    "    genomicFields=[\"chromStart\", \"chromEnd\"],\n",
    "    separator=\"\\t\",\n",
    ")\n",
    "\n",
    "# reuse the same visualization\n",
    "ideogram(data).properties(xDomain=gos.GenomicDomain(chromosome=\"chr2\"))"
   ]
  },
  {
   "cell_type": "markdown",
   "id": "4e6054a8",
   "metadata": {
    "id": "4e6054a8"
   },
   "source": [
    "## In memory (via `pd.DataFrame`)\n",
    "\n",
    "While loading remote and local genomics data files is useful, often we want to visualize intermediate or derived information during analysis. Rather than writing these results to disk, `gos` supports visualizing in-memory data directly from Pandas dataframes `pd.DataFrame`.\n",
    "\n",
    "In order to use this feature, we first load our dataset as a `pd.DataFrame`."
   ]
  },
  {
   "cell_type": "code",
   "execution_count": null,
   "id": "96d65129",
   "metadata": {
    "id": "96d65129"
   },
   "outputs": [],
   "source": [
    "import pandas as pd\n",
    "\n",
    "df = pd.read_csv(\n",
    "    './UCSC.HG38.Human.CytoBandIdeogram.bed', \n",
    "    names=['chrom', 'chromStart', 'chromEnd', 'name', 'stain'],\n",
    "    sep=\"\\t\"\n",
    ")\n",
    "\n",
    "df.head()"
   ]
  },
  {
   "cell_type": "markdown",
   "id": "bbd9f197",
   "metadata": {
    "id": "bbd9f197"
   },
   "source": [
    "Lets filter `df` in Python for our dataset only contains entries for Chromosome 2."
   ]
  },
  {
   "cell_type": "code",
   "execution_count": null,
   "id": "8cb3f460",
   "metadata": {
    "id": "8cb3f460"
   },
   "outputs": [],
   "source": [
    "df = df[df.chrom == \"chr2\"]\n",
    "df.head()"
   ]
  },
  {
   "cell_type": "markdown",
   "id": "a1e5fb9e",
   "metadata": {
    "id": "a1e5fb9e"
   },
   "source": [
    "We can now create a `data` source for our visualization using the `df.gos.csv(...)` method, and visualize directly! Note how the resulting visualization only renders for chromosome 2."
   ]
  },
  {
   "cell_type": "code",
   "execution_count": null,
   "id": "ZJXjripyF9EK",
   "metadata": {
    "id": "ZJXjripyF9EK"
   },
   "outputs": [],
   "source": [
    "df.gos.csv(    # we only need to specify these fields since the rest are inferred from dataframe\n",
    "    chromosomeField=\"chrom\",\n",
    "    genomicFields=[\"chromStart\", \"chromEnd\"], \n",
    ")"
   ]
  },
  {
   "cell_type": "code",
   "execution_count": null,
   "id": "1d37cad5",
   "metadata": {
    "id": "1d37cad5"
   },
   "outputs": [],
   "source": [
    "data = df.gos.csv(\n",
    "    # we only need to specify these fields since the rest are inferred from dataframe\n",
    "    chromosomeField=\"chrom\",\n",
    "    genomicFields=[\"chromStart\", \"chromEnd\"], \n",
    ")\n",
    "\n",
    "ideogram(data) # view in context of full assembly"
   ]
  },
  {
   "cell_type": "code",
   "execution_count": null,
   "id": "61cfcffe",
   "metadata": {
    "id": "61cfcffe"
   },
   "outputs": [],
   "source": [
    "ideogram(data).properties(xDomain=gos.GenomicDomain(chromosome=\"chr2\")) # view just chrom 2"
   ]
  },
  {
   "cell_type": "markdown",
   "id": "694c5554",
   "metadata": {
    "id": "694c5554"
   },
   "source": [
    "# (BONUS) Exercise: local bigwig track\n",
    "\n",
    "In the previous notebook we visualized several scATAC-seq \"pseudobulk\" tracks from human brain cells using a simple barplot.\n",
    "\n",
    "The `bigwig_url` below points to a [BigWig file (161Mb)](https://s3.amazonaws.com/gosling-lang.org/data/ExcitatoryNeurons-insertions_bin100_RIPnorm.bw) on a **remote** server containing the normliazed aggregate signal from excitatory neurons cells in the human brain."
   ]
  },
  {
   "cell_type": "code",
   "execution_count": null,
   "id": "20efacb3",
   "metadata": {},
   "outputs": [],
   "source": [
    "bigwig_url = \"https://s3.amazonaws.com/gosling-lang.org/data/ExcitatoryNeurons-insertions_bin100_RIPnorm.bw\""
   ]
  },
  {
   "cell_type": "markdown",
   "id": "b99ddcf2",
   "metadata": {},
   "source": [
    "We can combine the `gene_annotation` _View_ from earlier with a track for our scATAC-seq dataset to provide context when visualizing the peaks."
   ]
  },
  {
   "cell_type": "code",
   "execution_count": null,
   "id": "zeMF0LPY-Vdu",
   "metadata": {
    "id": "zeMF0LPY-Vdu"
   },
   "outputs": [],
   "source": [
    "data_bw = gos.bigwig(url=bigwig_url, column=\"position\", value=\"peak\")\n",
    "\n",
    "excitatory_neurons = gos.Track(data_bw).mark_bar().encode(\n",
    "    x=\"position:G\",\n",
    "    y=\"peak:Q\",\n",
    ").properties(height=50)\n",
    "\n",
    "gos.stack(gene_annotation, excitatory_neurons).properties(\n",
    "    xDomain=gos.GenomicDomain(chromosome=\"1\", interval=[103400000, 103700000]),\n",
    ")"
   ]
  },
  {
   "cell_type": "markdown",
   "id": "0a050049",
   "metadata": {},
   "source": [
    "Data is not always available via public URL, and often will be stored locally during an analysis. \n",
    "\n",
    "**Task**: \n",
    "\n",
    "1. *download* the scATAC-seq dataset locally (**hint**: use `!wget` in the cell below)\n",
    "1. *change* the code snippet above to load the _local_ `ExcitatoryNeurons-insertions_bin100_RIPnorm.bw`"
   ]
  }
 ],
 "metadata": {
  "colab": {
   "collapsed_sections": [
    "LbeXRBB8SBBZ",
    "wl8XgY8GMPiP",
    "ebb17f53"
   ],
   "name": "Session 2: Track Alignment and Local Data",
   "provenance": [],
   "toc_visible": true
  },
  "kernelspec": {
   "display_name": "Python 3 (ipykernel)",
   "language": "python",
   "name": "python3"
  },
  "language_info": {
   "codemirror_mode": {
    "name": "ipython",
    "version": 3
   },
   "file_extension": ".py",
   "mimetype": "text/x-python",
   "name": "python",
   "nbconvert_exporter": "python",
   "pygments_lexer": "ipython3",
   "version": "3.9.12"
  }
 },
 "nbformat": 4,
 "nbformat_minor": 5
}
