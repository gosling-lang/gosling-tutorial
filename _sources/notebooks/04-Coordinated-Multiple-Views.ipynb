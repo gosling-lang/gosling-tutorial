{
 "cells": [
  {
   "cell_type": "markdown",
   "id": "w0sZOCOBwv4t",
   "metadata": {
    "id": "w0sZOCOBwv4t"
   },
   "source": [
    "# Session 4: Coordinated Multiple Views\n",
    "\n",
    "This notebook demonstrates how to create coordinated multi-view visualizations using `gos` with two examples.  \n",
    "We recommend opening this notebook using Chrome.\n",
    "\n",
    "You will learn three key features for creating coordinated multi-view visualization:\n",
    "\n",
    "- Composing multiple views (`gos.vertical`, `gos.horizontal`, `gos.overlay`)\n",
    "- Brushing and linking (`linkingId`)\n",
    "- Linking views (`linkingId`)\n",
    "\n",
    "\n",
    "Start by importing `gosling` and other required python packages."
   ]
  },
  {
   "cell_type": "code",
   "execution_count": null,
   "id": "MymfLFo8wv4w",
   "metadata": {
    "colab": {
     "base_uri": "https://localhost:8080/"
    },
    "id": "MymfLFo8wv4w",
    "outputId": "480f8bf1-4c19-4c84-86b1-d45e8707494f"
   },
   "outputs": [],
   "source": [
    "!pip install gosling==0.0.9\n",
    "import gosling as gos\n",
    "\n",
    "from google.colab import files\n",
    "import json"
   ]
  },
  {
   "cell_type": "markdown",
   "id": "58WxVx7dwv4x",
   "metadata": {
    "id": "58WxVx7dwv4x"
   },
   "source": [
    "# Example 1: Overview + Detail\n",
    "\n",
    "<img src='https://drive.google.com/uc?export=view&id=1h4zNK74U7tiRb59PZLBnsLGFpZeoas1P' height=300>\n",
    "\n",
    "An overview+detail presents 1) a rough overview of the complete information without details and 2) a small portion of the information with details.\n",
    "\n",
    "A brush is often used to select a subset of data items from the overview."
   ]
  },
  {
   "cell_type": "markdown",
   "id": "BEYXP2-Vwv4y",
   "metadata": {
    "id": "BEYXP2-Vwv4y"
   },
   "source": [
    "## 👉 Create a bar chart"
   ]
  },
  {
   "cell_type": "code",
   "execution_count": null,
   "id": "MkekyDg4wv4y",
   "metadata": {
    "colab": {
     "base_uri": "https://localhost:8080/",
     "height": 147
    },
    "id": "MkekyDg4wv4y",
    "outputId": "731b12b3-a410-47ce-81bc-713502ddf6e3"
   },
   "outputs": [],
   "source": [
    "data = gos.multivec(\n",
    "    \n",
    "    url=\"https://server.gosling-lang.org/api/v1/tileset_info/?d=cistrome-multivec\",\n",
    "    row=\"sample\",\n",
    "    column=\"position\",\n",
    "    value=\"peak\",\n",
    "    categories=[\"sample 1\", \"sample 2\", \"sample 3\", \"sample 4\"],\n",
    "    binSize=4,\n",
    ")\n",
    "\n",
    "\n",
    "bar_chart = gos.Track(data).mark_bar().encode(\n",
    "      y=\"peak:Q\",\n",
    "      x=gos.X(\"start:G\", axis=\"bottom\", domain=gos.GenomicDomain(chromosome=\"7\")),\n",
    "      xe='end:G',\n",
    "      color=gos.Color(\"sample:N\", legend=True), # add color legend\n",
    "      stroke=gos.value(\"black\"),\n",
    "      strokeWidth=gos.value(0.3),\n",
    "    ).properties(height=100, width=800) \n",
    "    \n",
    "bar_chart.view()"
   ]
  },
  {
   "cell_type": "markdown",
   "id": "nWWqBXubjr6i",
   "metadata": {
    "id": "nWWqBXubjr6i"
   },
   "source": [
    "## 👉 Create a detailed view\n",
    "\n",
    "We can create a detailed view for the same data by changing the genomic domain (`x`) of the bar chart we just created.\n",
    "\n",
    "Apart from focusing on a smaller genomic domain, we also 1) change the chart background, 2) modify the chart height, and 3) split the stacked bar chart for the detailed view.\n",
    "\n",
    "\n",
    "> **🇮 Note**   \n",
    "> Remember to assign a unique `linkingId` to `x` (the genomic domain).   \n",
    "This id will be used later to link this detailed view and a brush on the overview."
   ]
  },
  {
   "cell_type": "code",
   "execution_count": null,
   "id": "iQkqsmk8OmCU",
   "metadata": {
    "colab": {
     "base_uri": "https://localhost:8080/",
     "height": 247
    },
    "id": "iQkqsmk8OmCU",
    "outputId": "f9a4a8e0-d036-480a-ba9a-b4feda3d3473"
   },
   "outputs": [],
   "source": [
    "linkingId = 'brush1'\n",
    "brushColor = 'steelblue'\n",
    "\n",
    "detail = bar_chart.encode(\n",
    "    row='sample:N', # split the stacked bar chart\n",
    "    style=gos.Style(background=brushColor, backgroundOpacity=0.2), # change background color\n",
    "    x=gos.X(\n",
    "        \"start:G\", \n",
    "        axis=\"bottom\", \n",
    "        domain=gos.GenomicDomain(chromosome=\"7\", interval=[77700000, 81000000]), \n",
    "        linkingId=linkingId # this linkingId will be used later to link this detailed view to a brush in the overview\n",
    "    ),\n",
    ").properties(height = 200)\n",
    "\n",
    "detail.view()\n"
   ]
  },
  {
   "cell_type": "markdown",
   "id": "tOPjmp-Ijjvy",
   "metadata": {
    "id": "tOPjmp-Ijjvy"
   },
   "source": [
    "## 👉 Linking the overview and the detail view through a brush"
   ]
  },
  {
   "cell_type": "code",
   "execution_count": null,
   "id": "Hsb3Ga6Twv4z",
   "metadata": {
    "id": "Hsb3Ga6Twv4z"
   },
   "outputs": [],
   "source": [
    "\n",
    "# we do not change the bar_chart but create a new object by modifying its mark type\n",
    "brush_track = bar_chart.mark_brush().encode(\n",
    "        x=gos.X(\n",
    "            \"start:G\",\n",
    "            linkingId=linkingId # the brush has the same linkingId as the detailed view\n",
    "        ),\n",
    "        color=gos.value(brushColor)\n",
    "    )\n"
   ]
  },
  {
   "cell_type": "markdown",
   "id": "7Prp1cphGe9t",
   "metadata": {
    "id": "7Prp1cphGe9t"
   },
   "source": [
    "So far, we already have all the components needed for an overview+detail visualization: `bar_chart`, `brush_track`, `detail`.  \n",
    "\n",
    "Let's compose them together to get a multi-view visualization!\n"
   ]
  },
  {
   "cell_type": "code",
   "execution_count": null,
   "id": "AUypY-JaGcyg",
   "metadata": {
    "colab": {
     "base_uri": "https://localhost:8080/",
     "height": 387
    },
    "id": "AUypY-JaGcyg",
    "outputId": "dd5f2170-b2ed-47ff-a8ff-7c4696b1145f"
   },
   "outputs": [],
   "source": [
    "# create an overview by overlaying the brush upon the bar chart\n",
    "overview =  gos.overlay(\n",
    "    bar_chart, \n",
    "    brush_track\n",
    ")\n",
    "\n",
    "# compose the detailed view and the overview\n",
    "gos.vertical(\n",
    "    detail, \n",
    "    overview\n",
    ")\n"
   ]
  },
  {
   "cell_type": "markdown",
   "id": "DxDy4cBD2w-i",
   "metadata": {
    "id": "DxDy4cBD2w-i"
   },
   "source": [
    "## 👉 Add more detail views\n"
   ]
  },
  {
   "cell_type": "code",
   "execution_count": null,
   "id": "Qvc8s-bwwv40",
   "metadata": {
    "colab": {
     "base_uri": "https://localhost:8080/",
     "height": 627
    },
    "id": "Qvc8s-bwwv40",
    "outputId": "3c4ee6e5-f9db-43b3-b52b-783e38de5405"
   },
   "outputs": [],
   "source": [
    "linkingId2='brush2'\n",
    "brushColor2='green'\n",
    "\n",
    "brush_track2 = bar_chart.mark_brush().encode(\n",
    "        x=gos.X(\n",
    "            \"start:G\",\n",
    "            linkingId=linkingId2\n",
    "        ),\n",
    "        color=gos.value(brushColor2)\n",
    "    )\n",
    "\n",
    "overview_2brush =  gos.overlay(\n",
    "    bar_chart, \n",
    "    brush_track,\n",
    "    brush_track2\n",
    ")\n",
    "\n",
    "detail2 = detail.encode(\n",
    "    style=gos.Style(background=brushColor2, backgroundOpacity=0.2),\n",
    "    x=gos.X(\n",
    "        \"start:G\", \n",
    "        axis=\"bottom\", \n",
    "        domain=gos.GenomicDomain(chromosome=\"7\", interval=[47700000, 51000000]), \n",
    "        linkingId=linkingId2\n",
    "    ),\n",
    ")\n",
    "\n",
    "gos.vertical(\n",
    "    detail,\n",
    "    detail2,\n",
    "    overview_2brush\n",
    ")\n"
   ]
  },
  {
   "cell_type": "markdown",
   "id": "RrgtO4TJ0gJM",
   "metadata": {
    "id": "RrgtO4TJ0gJM"
   },
   "source": [
    "## 👉 Flexible View Composition\n",
    "\n",
    "`gos` supports flexible wiew composition.\n",
    "\n",
    "For example, we can specify 1) the layout of a view as either `\"circular\"` or `\"linear\"` and 2) the arrangement of views as either horizontal (`gos.horizontal`) or vertical (`\"gos.vertical\"`)"
   ]
  },
  {
   "cell_type": "code",
   "execution_count": null,
   "id": "9LB_kPzTILF2",
   "metadata": {
    "colab": {
     "base_uri": "https://localhost:8080/",
     "height": 445
    },
    "id": "9LB_kPzTILF2",
    "outputId": "a1a99cfd-3dca-4190-abd4-cf8174a51d48"
   },
   "outputs": [],
   "source": [
    "chart = gos.horizontal(\n",
    "    overview_2brush.properties(layout=\"circular\", width= 400),\n",
    "    gos.vertical(\n",
    "        detail.properties(height=150), \n",
    "        detail2.properties(height=150), \n",
    "    ) \n",
    ").properties(title='coordinated views')\n",
    "\n",
    "chart"
   ]
  },
  {
   "cell_type": "code",
   "execution_count": null,
   "id": "ncnEVW1GCGFU",
   "metadata": {
    "colab": {
     "base_uri": "https://localhost:8080/",
     "height": 955
    },
    "id": "ncnEVW1GCGFU",
    "outputId": "8f53ebb6-72b0-46a0-966e-7ef6e712d364"
   },
   "outputs": [],
   "source": [
    "gos.vertical(\n",
    "    overview_2brush.properties(layout=\"circular\", width= 600, static=True),\n",
    "    gos.horizontal(\n",
    "        detail.properties(width=300).view().properties( layout=\"circular\"), \n",
    "        detail2.properties(width=300).view().properties( layout=\"circular\"), \n",
    "    ) \n",
    ").properties(title='coordinated views')\n"
   ]
  },
  {
   "cell_type": "markdown",
   "id": "qRwogBwPTrrn",
   "metadata": {
    "id": "qRwogBwPTrrn"
   },
   "source": [
    "## 💪 Hands-on Exercise\n",
    "- change the genomic domain (e.g., from `chr7` to `chr5`) of the overview and the two detailed views\n",
    "- change the multi-view arrangement (e.g., overview at the top, detailed view at the bottom)\n",
    "- change the encoding of the detailed views (e.g., bar charts to area charts)"
   ]
  },
  {
   "cell_type": "markdown",
   "id": "3ZQriO8wwv41",
   "metadata": {
    "id": "3ZQriO8wwv41"
   },
   "source": [
    "# Example 2: Comparative Matrix\n",
    "\n",
    "<img src=\"https://gosling.js.org/assets/MATRIX_HFFC6.05c9f5fa.gif\" height=400/>\n",
    " \n",
    "The two matrix visulaizations are linked to facilitate the comparision. \n",
    "The zooming and panning performed in one view will be automatically applied to the linked view"
   ]
  },
  {
   "cell_type": "code",
   "execution_count": null,
   "id": "J8zm-aouwv41",
   "metadata": {
    "id": "J8zm-aouwv41"
   },
   "outputs": [],
   "source": [
    "# Data\n",
    "\n",
    "micro_c = gos.matrix(\"https://server.gosling-lang.org/api/v1/tileset_info/?d=hffc6-microc-hg38\")\n",
    "hi_c = gos.matrix(\"https://server.gosling-lang.org/api/v1/tileset_info/?d=hffc6-hic-hg38\")\n",
    "\n"
   ]
  },
  {
   "cell_type": "markdown",
   "id": "uFKtVDLEzOI0",
   "metadata": {
    "id": "uFKtVDLEzOI0"
   },
   "source": [
    "## 👉 Create a matrix visualization for the micro-c data"
   ]
  },
  {
   "cell_type": "code",
   "execution_count": null,
   "id": "5OD1DfpUwv42",
   "metadata": {
    "colab": {
     "base_uri": "https://localhost:8080/",
     "height": 422
    },
    "id": "5OD1DfpUwv42",
    "outputId": "d88511c2-1c1c-4a11-9f7d-c316e7ea2c65"
   },
   "outputs": [],
   "source": [
    "\n",
    "size = 375\n",
    "\n",
    "micro_c_matrix = gos.Track(micro_c).mark_rect().encode(\n",
    "    x=gos.X(\"xs:G\", domain = gos.GenomicDomain(chromosome=\"7\", interval=[77700000, 81000000])),\n",
    "    xe=\"xe:G\",\n",
    "    y=\"ys:G\",\n",
    "    ye=\"ye:G\",\n",
    "    color=gos.Color(\"value:Q\", range=\"warm\"),\n",
    ").properties(title=\"HFFc6_Micro-C\", width=size, height=size)\n",
    "\n",
    "micro_c_matrix.view()"
   ]
  },
  {
   "cell_type": "markdown",
   "id": "eIXF0p-CymN1",
   "metadata": {
    "id": "eIXF0p-CymN1"
   },
   "source": [
    "## 👉 Create a matrix visualization for the Hi-C data\n",
    "\n",
    "We can create a similar matrix visualization for Hi-C data by chaning `data` and `title`. "
   ]
  },
  {
   "cell_type": "code",
   "execution_count": null,
   "id": "3T4NmVZIwv42",
   "metadata": {
    "colab": {
     "base_uri": "https://localhost:8080/",
     "height": 422
    },
    "id": "3T4NmVZIwv42",
    "outputId": "df446cd9-17a0-4b90-d64c-5ec16babb41d"
   },
   "outputs": [],
   "source": [
    "hic_matrix = micro_c_matrix.properties(data=hi_c, title=\"HFFc6_Hi-C\")\n",
    "hic_matrix.view()"
   ]
  },
  {
   "cell_type": "markdown",
   "id": "Xwuf7FQMxF2V",
   "metadata": {
    "id": "Xwuf7FQMxF2V"
   },
   "source": [
    "## 👉 Link and Compare the two matrices side by side\n",
    "We can easily link the two views by assigning them the same value for `linkingId`."
   ]
  },
  {
   "cell_type": "code",
   "execution_count": null,
   "id": "jo-mCJ8QJq0m",
   "metadata": {
    "colab": {
     "base_uri": "https://localhost:8080/",
     "height": 422
    },
    "id": "jo-mCJ8QJq0m",
    "outputId": "9bede6d7-982a-4c15-9d29-4144950b0acd"
   },
   "outputs": [],
   "source": [
    "mat = gos.horizontal(\n",
    "    hic_matrix, \n",
    "    micro_c_matrix\n",
    ")\n",
    "\n",
    "mat"
   ]
  },
  {
   "cell_type": "markdown",
   "id": "cq4t7pH42rBD",
   "metadata": {
    "id": "cq4t7pH42rBD"
   },
   "source": [
    "Simply putting two views together will not link them. \n",
    "We need to assign them the same `linkingId` as shown below."
   ]
  },
  {
   "cell_type": "code",
   "execution_count": null,
   "id": "XXsHT_TCwv43",
   "metadata": {
    "colab": {
     "base_uri": "https://localhost:8080/",
     "height": 450
    },
    "id": "XXsHT_TCwv43",
    "outputId": "69262a90-1dd0-42d5-e002-25c2b9e37300"
   },
   "outputs": [],
   "source": [
    "mat.properties(\n",
    "    title=\"Comparison of Micro-C and Hi-C for HFFc6 Cells\",\n",
    "    linkingId=\"id\" \n",
    ")"
   ]
  },
  {
   "cell_type": "markdown",
   "id": "VE3ZIqC2MF6X",
   "metadata": {
    "id": "VE3ZIqC2MF6X"
   },
   "source": [
    "## 👉 Compose Multiple Views\n",
    "\n",
    "Genomic sequene data is usually added to facilitate the analysis of genomic interaction data. \n",
    "\n",
    "Here, we add additional views to visualize the genomic sequence data along with the matrix visualization."
   ]
  },
  {
   "cell_type": "code",
   "execution_count": null,
   "id": "CjbyvBZ6wv43",
   "metadata": {
    "id": "CjbyvBZ6wv43"
   },
   "outputs": [],
   "source": [
    "# specify data\n",
    "HFFc6_H3K4me3 = gos.bigwig(\n",
    "    url=\"https://s3.amazonaws.com/gosling-lang.org/data/HFFc6_H3K4me3.bigWig\",\n",
    "    column=\"position\",\n",
    "    value=\"peak\",\n",
    "    binSize=8,\n",
    ")\n",
    "\n",
    "HFFc6_Atacseq = gos.bigwig(\n",
    "    url=\"https://s3.amazonaws.com/gosling-lang.org/data/HFFc6_Atacseq.mRp.clN.bigWig\",\n",
    "    column=\"position\",\n",
    "    value=\"peak\",\n",
    "    binSize=8\n",
    ")\n",
    "\n",
    "HFFC6_CTCF = gos.bigwig(\n",
    "    url=\"https://s3.amazonaws.com/gosling-lang.org/data/HFFC6_CTCF.mRp.clN.bigWig\",\n",
    "    column=\"position\",\n",
    "    value=\"peak\",\n",
    "    binSize=8,\n",
    ")\n",
    "\n",
    "genes = gos.beddb(\n",
    "    url=\"https://server.gosling-lang.org/api/v1/tileset_info/?d=gene-annotation\",\n",
    "    genomicFields=[\n",
    "        {\"index\": 1, \"name\": \"start\"},\n",
    "        {\"index\": 2, \"name\": \"end\"},\n",
    "    ],\n",
    "    valueFields=[\n",
    "        {\"index\": 5, \"name\": \"strand\", \"type\": \"nominal\"},\n",
    "        {\"index\": 3, \"name\": \"name\", \"type\": \"nominal\"},\n",
    "    ],\n",
    ")\n",
    "\n",
    "epilogos_data = gos.multivec(\n",
    "    url=\"https://server.gosling-lang.org/api/v1/tileset_info/?d=epilogos-hg38\",\n",
    "    row=\"category\",\n",
    "    column=\"position\",\n",
    "    value=\"value\",\n",
    "    categories=[\n",
    "        \"Active TSS\", \"Flanking Active TSS\", \"Transcr at gene 5\\\\' and 3\\\\'\",\n",
    "        \"Strong transcription\", \"Weak transcription\", \"Genic enhancers\",\n",
    "        \"Enhancers\", \"ZNF genes & repeats\", \"Heterochromatin\",\n",
    "        \"Bivalent/Poised TSS\", \"Flanking Bivalent TSS/Enh\", \"Bivalent Enhancer\",\n",
    "        \"Repressed PolyComb\", \"Weak Repressed PolyComb\", \"Quiescent/Low\",\n",
    "    ],\n",
    "    binSize=8,\n",
    ")\n"
   ]
  },
  {
   "cell_type": "code",
   "execution_count": null,
   "id": "r-GAlyNF5_v5",
   "metadata": {
    "id": "r-GAlyNF5_v5"
   },
   "outputs": [],
   "source": [
    "# create tracks for each data resources\n",
    "track_height = size / 15\n",
    "\n",
    "track1 = gos.Track(HFFc6_H3K4me3).mark_bar().encode(\n",
    "    x=gos.X(\"start:G\", axis=\"top\"),\n",
    "    xe=\"end:G\",\n",
    "    y=gos.Y(\"peak:Q\", axis=\"none\"),\n",
    "    color=gos.value(\"darkgreen\"),\n",
    ").properties(title=\"HFFc6_H3K4me3\", width=size, height=track_height)\n",
    "\n",
    "\n",
    "track2 = gos.Track(HFFc6_Atacseq).mark_bar().encode(\n",
    "    x=\"start:G\",\n",
    "    xe=\"end:G\",\n",
    "    y=gos.Y(\"peak:Q\", axis=\"none\"),\n",
    "    color=gos.value(\"#E79F00\"),\n",
    ").properties(title=\"HFFc6_ATAC\", width=size, height=track_height)\n",
    "\n",
    "gene_anno_base = gos.Track(genes).encode(\n",
    "    x=\"start:G\",\n",
    "    size=gos.value(13),\n",
    "    stroke=gos.value(\"white\"),\n",
    "    strokeWidth=gos.value(1),\n",
    "    color=gos.value(\"#CB7AA7\"),\n",
    "    row=gos.Row(\"strand:N\", domain=[\"+\", \"-\"]),\n",
    ")\n",
    "\n",
    "ctcf = gos.Track(HFFC6_CTCF).mark_bar().encode(\n",
    "        x=\"start:G\",\n",
    "        xe=\"end:G\",\n",
    "        y=gos.Y(\"peak:Q\", axis=\"none\"),\n",
    "        color=gos.value(\"#0072B2\")\n",
    "    )\n",
    "\n",
    "track3 = gos.overlay(\n",
    "    ctcf,\n",
    "    gene_anno_base.mark_triangleRight(backgroundOpacity=0).encode(\n",
    "        color=gos.value(\"#CB7AA7\"),\n",
    "    ).transform_filter(\"strand\", oneOf=[\"+\"]),\n",
    "    gene_anno_base.mark_triangleLeft(backgroundOpacity=0).encode(\n",
    "        color=gos.value(\"#029F73\"),\n",
    "    ).transform_filter(\"strand\", oneOf=[\"-\"]).properties(title=\"HFFC6_CTCF\")\n",
    ").properties(width=size, height=track_height)"
   ]
  },
  {
   "cell_type": "code",
   "execution_count": null,
   "id": "EE8Sz7suwv44",
   "metadata": {
    "id": "EE8Sz7suwv44"
   },
   "outputs": [],
   "source": [
    "# Configure Layout\n",
    "\n",
    "side_tracks = gos.stack(\n",
    "    track1.properties(height=size, width=track_height), \n",
    "    track2.properties(height=size, width=track_height), \n",
    "    track3.properties(height=size, width=track_height), \n",
    ").properties(\n",
    "    orientation=\"vertical\",\n",
    "    yOffset=size / 2.78, #\n",
    ")\n",
    "   \n",
    "\n",
    "top_tracks = gos.stack(track1, track2, track3)\n",
    "\n",
    "\n",
    "bottom_tracks = gos.Track(epilogos_data).mark_bar().encode(\n",
    "    x=gos.X(\"start:G\", axis=\"none\"),\n",
    "    xe=\"end:G\",\n",
    "    y=gos.Y(\"value:Q\", axis=\"none\"),\n",
    "    color=gos.Color(\"category:N\", range=[\n",
    "        \"#FF0000\", \"#FF4500\", \"#32CD32\", \"#008000\", \"#006400\",\n",
    "        \"#C2E105\", \"#FFFF00\", \"#66CDAA\", \"#8A91D0\", \"#CD5C5C\",\n",
    "        \"#E9967A\", \"#BDB76B\", \"#808080\", \"#C0C0C0\", \"gray\"\n",
    "    ]),\n",
    ").transform_filter(\"value\", inRange=[0, 999999]).properties(\n",
    "    title=\"Epilogos (hg38)\",\n",
    "    width=size,\n",
    "    height=track_height,\n",
    ").view()\n"
   ]
  },
  {
   "cell_type": "markdown",
   "id": "jrG2ROfNO8VL",
   "metadata": {
    "id": "jrG2ROfNO8VL"
   },
   "source": [
    "Let's see how the three additional views look like"
   ]
  },
  {
   "cell_type": "code",
   "execution_count": null,
   "id": "QEbSauSkNax4",
   "metadata": {
    "colab": {
     "base_uri": "https://localhost:8080/",
     "height": 42
    },
    "id": "QEbSauSkNax4",
    "outputId": "f657f63f-960b-466b-bcb0-6f3205060d8e"
   },
   "outputs": [],
   "source": [
    "bottom_tracks"
   ]
  },
  {
   "cell_type": "markdown",
   "id": "qmu0TCqxPDCQ",
   "metadata": {
    "id": "qmu0TCqxPDCQ"
   },
   "source": [
    "Compose and link multive views\n",
    "\n",
    "We use a same `linkingId` to link all views in this visualization."
   ]
  },
  {
   "cell_type": "code",
   "execution_count": null,
   "id": "Lqls5vNSwv44",
   "metadata": {
    "colab": {
     "base_uri": "https://localhost:8080/",
     "height": 602
    },
    "id": "Lqls5vNSwv44",
    "outputId": "38980122-ca4c-45c0-d8e0-ddb8beb89e24"
   },
   "outputs": [],
   "source": [
    "\n",
    "\n",
    "left_view = gos.vertical(top_tracks, hic_matrix, bottom_tracks, spacing=0)\n",
    "right_view = gos.vertical(\n",
    "    top_tracks,\n",
    "    # replace data source for right side, change title\n",
    "    micro_c_matrix,\n",
    "    bottom_tracks,\n",
    "    spacing=0,\n",
    ")\n",
    "main= gos.horizontal(left_view, right_view, spacing=30)\n",
    "\n",
    "\n",
    "comp_matrix_vis = gos.horizontal(side_tracks, main).properties(\n",
    "    title=\"Matrix Visualization\",\n",
    "    subtitle=\"Comparison of Hi-C and Micro-C for HFFc6 Cells\",\n",
    "    xDomain=gos.GenomicDomain(chromosome=\"7\", interval=[77700000, 81000000]),\n",
    "    spacing=1,\n",
    "    linkingId=\"-\"\n",
    ")\n",
    "\n",
    "comp_matrix_vis"
   ]
  },
  {
   "cell_type": "markdown",
   "id": "JhbMAh3R-gGv",
   "metadata": {
    "id": "JhbMAh3R-gGv"
   },
   "source": [
    "In the above visualization, multiple views (`top_tracks`, `bottom_tracks`, `side_tracks`, `hic_matrix`, `micro_c_matrix`) are oragnized as below:\n",
    "\n",
    "```\n",
    "gos.horizontal/   \n",
    "├─ side_tracks  \n",
    "└─ gos.horizontal/ \n",
    "   ├─ gos.vertical/  \n",
    "   │  ├── top_tracks  \n",
    "   │  ├── hic_matrix  \n",
    "   │  └── bottom_tracks  \n",
    "   └─ gos.vertical/  \n",
    "      ├── top_tracks  \n",
    "      ├── micro_c_matrix  \n",
    "      └── bottom_tracks\n",
    "```"
   ]
  },
  {
   "cell_type": "markdown",
   "id": "LJ0GkiuI9O_2",
   "metadata": {
    "id": "LJ0GkiuI9O_2"
   },
   "source": [
    "## 💪 Hands-on Exercises\n",
    "- Modify the arrangements of the `top_tracks`, `side_tracks`, `bottom_tracks`, and the two matrices. "
   ]
  },
  {
   "cell_type": "markdown",
   "id": "jMOZQEEfUrl4",
   "metadata": {
    "id": "jMOZQEEfUrl4"
   },
   "source": [
    "# Save and Load Gosling Visualizations using JSON Spec"
   ]
  },
  {
   "cell_type": "code",
   "execution_count": null,
   "id": "umwK-Df_uJGM",
   "metadata": {
    "colab": {
     "base_uri": "https://localhost:8080/",
     "height": 87
    },
    "id": "umwK-Df_uJGM",
    "outputId": "e799f8a9-009d-4ac2-c57a-798455dbb117"
   },
   "outputs": [],
   "source": [
    "comp_matrix_vis.to_json()"
   ]
  },
  {
   "cell_type": "code",
   "execution_count": null,
   "id": "dkFgJBwFwv41",
   "metadata": {
    "colab": {
     "base_uri": "https://localhost:8080/",
     "height": 17
    },
    "id": "dkFgJBwFwv41",
    "outputId": "cc8f4a28-070e-4a89-ec9f-30953232cc42"
   },
   "outputs": [],
   "source": [
    "with open('gos_comp_mat_spec.json', 'w') as f:\n",
    "    json.dump(comp_matrix_vis.to_dict(), f)\n",
    "\n",
    "files.download('gos_comp_mat_spec.json')"
   ]
  },
  {
   "cell_type": "code",
   "execution_count": null,
   "id": "dXGu8TK3tcnT",
   "metadata": {
    "colab": {
     "base_uri": "https://localhost:8080/",
     "height": 602
    },
    "id": "dXGu8TK3tcnT",
    "outputId": "dcaea7b7-faae-4bda-ebfa-a13e53c87b41"
   },
   "outputs": [],
   "source": [
    "with open('gos_comp_mat_spec.json', 'r') as f:\n",
    "    spec = json.load(f)\n",
    "gos.View(**spec)"
   ]
  },
  {
   "cell_type": "code",
   "execution_count": null,
   "id": "5Tbc3QlnvsZ4",
   "metadata": {
    "colab": {
     "base_uri": "https://localhost:8080/",
     "height": 422
    },
    "id": "5Tbc3QlnvsZ4",
    "outputId": "d07e1df7-4323-4f25-d9e0-b320cae45ccc"
   },
   "outputs": [],
   "source": [
    "gos.View(**mat.to_dict())"
   ]
  },
  {
   "cell_type": "code",
   "execution_count": null,
   "id": "-_9vI0vfSHqI",
   "metadata": {
    "colab": {
     "base_uri": "https://localhost:8080/",
     "height": 17
    },
    "id": "-_9vI0vfSHqI",
    "outputId": "b368ab46-598f-4724-e408-241b44ae08ca"
   },
   "outputs": [],
   "source": [
    "with open('mat_spec.json', 'w') as f:\n",
    "    json.dump(mat.to_dict(), f)\n",
    "\n",
    "files.download('mat_spec.json')"
   ]
  },
  {
   "cell_type": "code",
   "execution_count": null,
   "id": "nDa3eBEMSdXV",
   "metadata": {
    "id": "nDa3eBEMSdXV"
   },
   "outputs": [],
   "source": []
  }
 ],
 "metadata": {
  "colab": {
   "collapsed_sections": [],
   "name": "session4: multi-view.ipynb",
   "provenance": [],
   "toc_visible": true
  },
  "interpreter": {
   "hash": "3706b3736588638bdcc4cce6ffbf6ac4b8ae65732f697660507d5b1ceb55db1f"
  },
  "kernelspec": {
   "display_name": "Python 3 (ipykernel)",
   "language": "python",
   "name": "python3"
  },
  "language_info": {
   "codemirror_mode": {
    "name": "ipython",
    "version": 3
   },
   "file_extension": ".py",
   "mimetype": "text/x-python",
   "name": "python",
   "nbconvert_exporter": "python",
   "pygments_lexer": "ipython3",
   "version": "3.9.12"
  }
 },
 "nbformat": 4,
 "nbformat_minor": 5
}
